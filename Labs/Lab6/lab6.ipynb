{
  "nbformat": 4,
  "nbformat_minor": 0,
  "metadata": {
    "colab": {
      "provenance": []
    },
    "kernelspec": {
      "name": "python3",
      "display_name": "Python 3"
    },
    "language_info": {
      "name": "python"
    }
  },
  "cells": [
    {
      "cell_type": "markdown",
      "source": [
        "1.\tGenere una expresión regular que sea capaz de detectar las placas de un vehículo particular guatemalteco.\n"
      ],
      "metadata": {
        "id": "xkg6YtSjoBg8"
      }
    },
    {
      "cell_type": "code",
      "source": [
        "import re"
      ],
      "metadata": {
        "id": "pRqMHY3yp5ev"
      },
      "execution_count": 2,
      "outputs": []
    },
    {
      "cell_type": "code",
      "source": [
        "string = \"P245JQQ, P325GDZ, A123ADT\"\n",
        "pattern = r\"\\bP[0-9]{3}[A-Z]{3}\\b\"\n",
        "re.findall(pattern, string)"
      ],
      "metadata": {
        "colab": {
          "base_uri": "https://localhost:8080/"
        },
        "id": "r_EWoTEtoYS8",
        "outputId": "b60144f4-a0de-4783-8198-2b0648c72e5d"
      },
      "execution_count": 12,
      "outputs": [
        {
          "output_type": "execute_result",
          "data": {
            "text/plain": [
              "['P245JQQ', 'P325GDZ']"
            ]
          },
          "metadata": {},
          "execution_count": 12
        }
      ]
    },
    {
      "cell_type": "markdown",
      "source": [
        "2.\tGenere una expresión regular que valide si un archivo es de tipo .pdf o jpg.\n",
        "a.\tEjemplo1.pdf, prueba2.PDF, respuestas_del_examen.jpg, amor.JPG\n"
      ],
      "metadata": {
        "id": "c8-MWXSjqt3a"
      }
    },
    {
      "cell_type": "code",
      "source": [
        "string = \"Ejemplo1.pdf, prueba2.PDF, respuestas_del_examen.jpg, amor.JPG\"\n",
        "pattern = r\"([A-Za-z0-9]+\\.jpg|[A-Za-z0-9]+\\.pdf|[A-Za-z0-9]+\\.PDF|[A-Za-z0-9]+\\.JPG)\"\n",
        "re.findall(pattern,string)"
      ],
      "metadata": {
        "colab": {
          "base_uri": "https://localhost:8080/"
        },
        "id": "QBPixnjXqxot",
        "outputId": "eebd478c-2980-44e4-e824-4becd629a98a"
      },
      "execution_count": 15,
      "outputs": [
        {
          "output_type": "execute_result",
          "data": {
            "text/plain": [
              "['Ejemplo1.pdf', 'prueba2.PDF', 'examen.jpg', 'amor.JPG']"
            ]
          },
          "metadata": {},
          "execution_count": 15
        }
      ]
    },
    {
      "cell_type": "markdown",
      "source": [
        "3.\tGenere una expresión regular para validar contraseñas de correo. Una contraseña de correo debe contener por lo menos 8 caracteres, una letra mayúscula y un carácter especial."
      ],
      "metadata": {
        "id": "x0s_WQS3sCUP"
      }
    },
    {
      "cell_type": "code",
      "source": [
        "pattern = r\"^(?=.*[A-Z])(?=.*[@#$%^&+=]).{8,}$\"\n",
        "\n",
        "\n",
        "contrasenas = [\"Ejemplo123@\", \"contraseña\", \"Correo123\", \"PassWord#1\", \"Segura$12\"]\n",
        "\n",
        "for contrasena in contrasenas:\n",
        "    if re.match(pattern, contrasena):\n",
        "        print(f\"La contraseña '{contrasena}' es válida para un correo.\")\n",
        "    else:\n",
        "        print(f\"La contraseña '{contrasena}' no es válida para un correo.\")"
      ],
      "metadata": {
        "colab": {
          "base_uri": "https://localhost:8080/"
        },
        "id": "AYoSAsKjsHe9",
        "outputId": "cf105993-8e05-4e66-afe6-fcc915709edf"
      },
      "execution_count": 16,
      "outputs": [
        {
          "output_type": "stream",
          "name": "stdout",
          "text": [
            "La contraseña 'Ejemplo123@' es válida para un correo.\n",
            "La contraseña 'contraseña' no es válida para un correo.\n",
            "La contraseña 'Correo123' no es válida para un correo.\n",
            "La contraseña 'PassWord#1' es válida para un correo.\n",
            "La contraseña 'Segura$12' es válida para un correo.\n"
          ]
        }
      ]
    },
    {
      "cell_type": "markdown",
      "source": [
        "4.\tCree una expresión regular para validar un numero de carnet de la Universidad Galileo, por ejemplo 19002324 donde los primeros dos dígitos representan el año en el que el alumno se inscribió los cuales pueden variar desde el 01 (año 2001) hasta el 30 (año 2030). Los siguientes dos dígitos son cero (00) los cuales van por default y los últimos cuatro dígitos son un número que va desde el 1110 hasta el 8970. Para dar su respuesta utilice la notación de expresiones regulares."
      ],
      "metadata": {
        "id": "onJdBldVsqMw"
      }
    },
    {
      "cell_type": "code",
      "source": [
        "string = '19002324'\n",
        "pattern = r\"((0[1-9]|[1-2][0-9]|30)(00)(1[1-9][1-9][0-9]|[2-7][0-9]{3}|[8][0-9][0-7][0]))\"\n",
        "re.findall(pattern, string)"
      ],
      "metadata": {
        "colab": {
          "base_uri": "https://localhost:8080/"
        },
        "id": "GI9gmgAIst2J",
        "outputId": "1dfed397-b04a-45ba-dcdc-a9826d765915"
      },
      "execution_count": 18,
      "outputs": [
        {
          "output_type": "execute_result",
          "data": {
            "text/plain": [
              "[('19002324', '19', '00', '2324')]"
            ]
          },
          "metadata": {},
          "execution_count": 18
        }
      ]
    },
    {
      "cell_type": "markdown",
      "source": [
        "5.\tCree una expresión regular que encuentre todas las palabras de la primera línea, pero ninguna de la segunda.\n",
        "a.\tpit, spot, spate, slap two, respite\n",
        "b.\tpt,Pot,peat,part\n"
      ],
      "metadata": {
        "id": "Uw6ktKAytUJQ"
      }
    },
    {
      "cell_type": "code",
      "source": [
        "pattern = r'\\b(?<!\\S)(pit|spot|spate|slap\\stwo|respite)(?!\\S)\\b'\n",
        "texto = \"pit, spot, spate, slap two, respite\\npt,Pot,peat,part\"\n",
        "\n",
        "re.findall(pattern, texto, re.IGNORECASE)"
      ],
      "metadata": {
        "colab": {
          "base_uri": "https://localhost:8080/"
        },
        "id": "Wv_L6YS4tWv1",
        "outputId": "19e3db4d-afb6-48d7-920b-e8d8636ef781"
      },
      "execution_count": 19,
      "outputs": [
        {
          "output_type": "execute_result",
          "data": {
            "text/plain": [
              "['respite']"
            ]
          },
          "metadata": {},
          "execution_count": 19
        }
      ]
    },
    {
      "cell_type": "markdown",
      "source": [
        "6.\tCree una expresión regular para obtener los números telefónicos de Guatemala. Estos pueden contener al inicio +502 o 502, pueden estar separados por un espacio en blanco o un guión o juntos. Notar que los números telefónicos pueden empezar únicamente con 4,5,6 o 2.\n",
        "a.\t+50254821151, 4210-7640, 52018150, 2434 6854, 11234569, 50211234578\n"
      ],
      "metadata": {
        "id": "OeCXJpf7v3RD"
      }
    },
    {
      "cell_type": "code",
      "source": [
        "string = \"+50254821151, 4210-7640, 52018150, 2434 6854, 11234569, 50211234578\"\n",
        "pattern = r\"((\\+502|502|)((4|5|6|2)\\d{3})(\\s|-|)(\\d{4}))\"\n",
        "re.findall(pattern, string)"
      ],
      "metadata": {
        "colab": {
          "base_uri": "https://localhost:8080/"
        },
        "id": "mxLAoRmrv5Qe",
        "outputId": "a57955a2-a65e-41f6-c6a4-26ce13cc9e97"
      },
      "execution_count": 20,
      "outputs": [
        {
          "output_type": "execute_result",
          "data": {
            "text/plain": [
              "[('+50254821151', '+502', '5482', '5', '', '1151'),\n",
              " ('4210-7640', '', '4210', '4', '-', '7640'),\n",
              " ('52018150', '', '5201', '5', '', '8150'),\n",
              " ('2434 6854', '', '2434', '2', ' ', '6854'),\n",
              " ('50211234', '', '5021', '5', '', '1234')]"
            ]
          },
          "metadata": {},
          "execution_count": 20
        }
      ]
    },
    {
      "cell_type": "markdown",
      "source": [
        "7.\tGenere una expresión regular que sea capaz de obtener correos de la UFM."
      ],
      "metadata": {
        "id": "lsfue5JowTxC"
      }
    },
    {
      "cell_type": "code",
      "source": [
        "pattern = r'\\b[A-Za-z]+[A-Za-z]+@ufm\\.edu\\b'\n",
        "texto = \"Estos son algunos correos: nombreapellido@ufm.edu, usuario2@ufm.edu, otro_usuario@ejemplo.com\"\n",
        "re.findall(pattern, texto)"
      ],
      "metadata": {
        "colab": {
          "base_uri": "https://localhost:8080/"
        },
        "id": "XO6OWaIPwVT1",
        "outputId": "8df59231-1d30-4b8b-864d-d4e71e73da3e"
      },
      "execution_count": 25,
      "outputs": [
        {
          "output_type": "execute_result",
          "data": {
            "text/plain": [
              "['nombreapellido@ufm.edu']"
            ]
          },
          "metadata": {},
          "execution_count": 25
        }
      ]
    },
    {
      "cell_type": "markdown",
      "source": [
        "8.\tEn el mundo distópico de Eurasia, Big Brother le asigna un identificador único a cada ciudadano. Genere una expresión regular que valide las identificaciones. Composición del id:\n",
        "a.\tEl id inicia con 0 a 3 letras minúsculas (puede tener 0 letras minúsculas hasta tres letras minúsculas)\n",
        "b.\tLuego es seguido por una cadena de dígitos que puede ser de 2 a 9 dígitos respectivamente.\n",
        "c.\tInmediatamente después de la cadena de dígitos, se encuentra por lo menos tres letras mayúsculas.\n",
        "d.\tEj: abc012333ABCDEEEE\n"
      ],
      "metadata": {
        "id": "A2fs8xKBxv0j"
      }
    },
    {
      "cell_type": "code",
      "source": [
        "string_1 = \"abc012333ABCDEEEE\"\n",
        "pattern_dot = r\"^\" + \"(?=[a-z]){0,3}\" + \"(?=.*[0-9]){2,9}\" +\"(?=..+[A-Z]){3,}\" +\"(?=\\\\S+$)\"+ \".{0,}\" + \"$\"\n",
        "re.findall(pattern_dot,string_1)"
      ],
      "metadata": {
        "colab": {
          "base_uri": "https://localhost:8080/"
        },
        "id": "i-n0FoF6xzC0",
        "outputId": "60d68faa-7341-4ee5-bf17-f9e86c7ff961"
      },
      "execution_count": 26,
      "outputs": [
        {
          "output_type": "execute_result",
          "data": {
            "text/plain": [
              "['abc012333ABCDEEEE']"
            ]
          },
          "metadata": {},
          "execution_count": 26
        }
      ]
    }
  ]
}