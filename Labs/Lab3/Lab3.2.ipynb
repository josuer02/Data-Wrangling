{
 "cells": [
  {
   "cell_type": "markdown",
   "id": "6a676173",
   "metadata": {},
   "source": [
    "# Murder Mistery LAB"
   ]
  },
  {
   "cell_type": "code",
   "execution_count": 8,
   "id": "bed061e1",
   "metadata": {},
   "outputs": [],
   "source": [
    "import sqlite3 \n",
    "import pandas as pd"
   ]
  },
  {
   "cell_type": "markdown",
   "id": "eb54c276",
   "metadata": {},
   "source": [
    "### LECTURA DE LA BASE DE DATOS"
   ]
  },
  {
   "cell_type": "code",
   "execution_count": 9,
   "id": "b2eb93cb",
   "metadata": {},
   "outputs": [],
   "source": [
    "conn = sqlite3.connect('sql-murder-mystery.db')"
   ]
  },
  {
   "cell_type": "markdown",
   "id": "7ee55fe7",
   "metadata": {},
   "source": [
    "### BUSQUEDA DEL REPORTE EN LA FECHA QUE SE REALIZO\n"
   ]
  },
  {
   "cell_type": "code",
   "execution_count": 53,
   "id": "91b5a450",
   "metadata": {},
   "outputs": [],
   "source": [
    "REPORTE = \"\"\"\n",
    "SELECT *\n",
    "FROM crime_scene_report\n",
    "WHERE date = '20180115'\n",
    "AND city = 'SQL City'\n",
    "AND type = 'murder'\n",
    "\n",
    "\"\"\""
   ]
  },
  {
   "cell_type": "code",
   "execution_count": 54,
   "id": "e826150c",
   "metadata": {},
   "outputs": [
    {
     "data": {
      "text/html": [
       "<div>\n",
       "<style scoped>\n",
       "    .dataframe tbody tr th:only-of-type {\n",
       "        vertical-align: middle;\n",
       "    }\n",
       "\n",
       "    .dataframe tbody tr th {\n",
       "        vertical-align: top;\n",
       "    }\n",
       "\n",
       "    .dataframe thead th {\n",
       "        text-align: right;\n",
       "    }\n",
       "</style>\n",
       "<table border=\"1\" class=\"dataframe\">\n",
       "  <thead>\n",
       "    <tr style=\"text-align: right;\">\n",
       "      <th></th>\n",
       "      <th>date</th>\n",
       "      <th>type</th>\n",
       "      <th>description</th>\n",
       "      <th>city</th>\n",
       "    </tr>\n",
       "  </thead>\n",
       "  <tbody>\n",
       "    <tr>\n",
       "      <th>0</th>\n",
       "      <td>20180115</td>\n",
       "      <td>murder</td>\n",
       "      <td>Security footage shows that there were 2 witne...</td>\n",
       "      <td>SQL City</td>\n",
       "    </tr>\n",
       "  </tbody>\n",
       "</table>\n",
       "</div>"
      ],
      "text/plain": [
       "       date    type                                        description  \\\n",
       "0  20180115  murder  Security footage shows that there were 2 witne...   \n",
       "\n",
       "       city  \n",
       "0  SQL City  "
      ]
     },
     "execution_count": 54,
     "metadata": {},
     "output_type": "execute_result"
    }
   ],
   "source": [
    "res1 = pd.read_sql(REPORTE ,conn)\n",
    "res1"
   ]
  },
  {
   "cell_type": "markdown",
   "id": "08f7ea98",
   "metadata": {},
   "source": [
    "### BUSQUEDA DE LOS 2 TESTIGOS, EL QUE VIVE EN NORTHWESTERN Y LA QUE SE LLAMA ANNABEL"
   ]
  },
  {
   "cell_type": "code",
   "execution_count": 55,
   "id": "d28c049e",
   "metadata": {},
   "outputs": [],
   "source": [
    "TESTIGOS = \"\"\"\n",
    "SELECT id, name, address_street_name, MAX(address_number) address_number\n",
    "FROM person\n",
    "WHERE address_street_name = 'Northwestern Dr'\n",
    "UNION\n",
    "SELECT id, name, address_street_name, address_number\n",
    "FROM person\n",
    "WHERE address_street_name = 'Franklin Ave'\n",
    "AND name LIKE '%Annabel%'\n",
    "\n",
    "\"\"\""
   ]
  },
  {
   "cell_type": "code",
   "execution_count": 56,
   "id": "9dad676d",
   "metadata": {},
   "outputs": [
    {
     "data": {
      "text/html": [
       "<div>\n",
       "<style scoped>\n",
       "    .dataframe tbody tr th:only-of-type {\n",
       "        vertical-align: middle;\n",
       "    }\n",
       "\n",
       "    .dataframe tbody tr th {\n",
       "        vertical-align: top;\n",
       "    }\n",
       "\n",
       "    .dataframe thead th {\n",
       "        text-align: right;\n",
       "    }\n",
       "</style>\n",
       "<table border=\"1\" class=\"dataframe\">\n",
       "  <thead>\n",
       "    <tr style=\"text-align: right;\">\n",
       "      <th></th>\n",
       "      <th>id</th>\n",
       "      <th>name</th>\n",
       "      <th>address_street_name</th>\n",
       "      <th>address_number</th>\n",
       "    </tr>\n",
       "  </thead>\n",
       "  <tbody>\n",
       "    <tr>\n",
       "      <th>0</th>\n",
       "      <td>14887</td>\n",
       "      <td>Morty Schapiro</td>\n",
       "      <td>Northwestern Dr</td>\n",
       "      <td>4919</td>\n",
       "    </tr>\n",
       "    <tr>\n",
       "      <th>1</th>\n",
       "      <td>16371</td>\n",
       "      <td>Annabel Miller</td>\n",
       "      <td>Franklin Ave</td>\n",
       "      <td>103</td>\n",
       "    </tr>\n",
       "  </tbody>\n",
       "</table>\n",
       "</div>"
      ],
      "text/plain": [
       "      id            name address_street_name  address_number\n",
       "0  14887  Morty Schapiro     Northwestern Dr            4919\n",
       "1  16371  Annabel Miller        Franklin Ave             103"
      ]
     },
     "execution_count": 56,
     "metadata": {},
     "output_type": "execute_result"
    }
   ],
   "source": [
    "res2 = pd.read_sql(TESTIGOS ,conn)\n",
    "res2"
   ]
  },
  {
   "cell_type": "markdown",
   "id": "d794c7ff",
   "metadata": {},
   "source": [
    "### BUSCAMOS LA ENTREVISTA DE LOS TESTIGOS SEGUN SU ID"
   ]
  },
  {
   "cell_type": "code",
   "execution_count": 57,
   "id": "2e0e0688",
   "metadata": {},
   "outputs": [],
   "source": [
    "ENTREVISTAT = \"\"\"\n",
    "SELECT *\n",
    "FROM interview\n",
    "WHERE person_id IN (14887, 16371)\n",
    "\"\"\""
   ]
  },
  {
   "cell_type": "code",
   "execution_count": 58,
   "id": "c756d8fe",
   "metadata": {},
   "outputs": [
    {
     "data": {
      "text/html": [
       "<div>\n",
       "<style scoped>\n",
       "    .dataframe tbody tr th:only-of-type {\n",
       "        vertical-align: middle;\n",
       "    }\n",
       "\n",
       "    .dataframe tbody tr th {\n",
       "        vertical-align: top;\n",
       "    }\n",
       "\n",
       "    .dataframe thead th {\n",
       "        text-align: right;\n",
       "    }\n",
       "</style>\n",
       "<table border=\"1\" class=\"dataframe\">\n",
       "  <thead>\n",
       "    <tr style=\"text-align: right;\">\n",
       "      <th></th>\n",
       "      <th>person_id</th>\n",
       "      <th>transcript</th>\n",
       "    </tr>\n",
       "  </thead>\n",
       "  <tbody>\n",
       "    <tr>\n",
       "      <th>0</th>\n",
       "      <td>14887</td>\n",
       "      <td>I heard a gunshot and then saw a man run out. ...</td>\n",
       "    </tr>\n",
       "    <tr>\n",
       "      <th>1</th>\n",
       "      <td>16371</td>\n",
       "      <td>I saw the murder happen, and I recognized the ...</td>\n",
       "    </tr>\n",
       "  </tbody>\n",
       "</table>\n",
       "</div>"
      ],
      "text/plain": [
       "   person_id                                         transcript\n",
       "0      14887  I heard a gunshot and then saw a man run out. ...\n",
       "1      16371  I saw the murder happen, and I recognized the ..."
      ]
     },
     "execution_count": 58,
     "metadata": {},
     "output_type": "execute_result"
    }
   ],
   "source": [
    "res3 = pd.read_sql(ENTREVISTAT, conn)\n",
    "res3"
   ]
  },
  {
   "cell_type": "markdown",
   "id": "a695e589",
   "metadata": {},
   "source": [
    "### BUSQUEDA SEGUN LO PROPORCIONADO DEL GIMANSIO Y DEL CARRO"
   ]
  },
  {
   "cell_type": "code",
   "execution_count": 44,
   "id": "230c5fdf",
   "metadata": {},
   "outputs": [],
   "source": [
    "DESCRIPCIONA = \"\"\"\n",
    "SELECT *\n",
    "FROM get_fit_now_member A\n",
    "INNER JOIN get_fit_now_check_in B ON A.id = B.membership_id\n",
    "INNER JOIN person C ON C.id = A.person_id\n",
    "INNER JOIN drivers_license D ON D.id = C.license_id\n",
    "WHERE B.check_in_date = '20180109'\n",
    "AND A.membership_status = 'gold'\n",
    "AND A.id LIKE '48Z%'\n",
    "AND D.gender = 'male'\n",
    "AND D.plate_number LIKE '%H42W%'\n",
    "\"\"\""
   ]
  },
  {
   "cell_type": "code",
   "execution_count": 45,
   "id": "24c4530f",
   "metadata": {},
   "outputs": [
    {
     "data": {
      "text/html": [
       "<div>\n",
       "<style scoped>\n",
       "    .dataframe tbody tr th:only-of-type {\n",
       "        vertical-align: middle;\n",
       "    }\n",
       "\n",
       "    .dataframe tbody tr th {\n",
       "        vertical-align: top;\n",
       "    }\n",
       "\n",
       "    .dataframe thead th {\n",
       "        text-align: right;\n",
       "    }\n",
       "</style>\n",
       "<table border=\"1\" class=\"dataframe\">\n",
       "  <thead>\n",
       "    <tr style=\"text-align: right;\">\n",
       "      <th></th>\n",
       "      <th>id</th>\n",
       "      <th>person_id</th>\n",
       "      <th>name</th>\n",
       "      <th>membership_start_date</th>\n",
       "      <th>membership_status</th>\n",
       "      <th>membership_id</th>\n",
       "      <th>check_in_date</th>\n",
       "      <th>check_in_time</th>\n",
       "      <th>check_out_time</th>\n",
       "      <th>id</th>\n",
       "      <th>...</th>\n",
       "      <th>ssn</th>\n",
       "      <th>id</th>\n",
       "      <th>age</th>\n",
       "      <th>height</th>\n",
       "      <th>eye_color</th>\n",
       "      <th>hair_color</th>\n",
       "      <th>gender</th>\n",
       "      <th>plate_number</th>\n",
       "      <th>car_make</th>\n",
       "      <th>car_model</th>\n",
       "    </tr>\n",
       "  </thead>\n",
       "  <tbody>\n",
       "    <tr>\n",
       "      <th>0</th>\n",
       "      <td>48Z55</td>\n",
       "      <td>67318</td>\n",
       "      <td>Jeremy Bowers</td>\n",
       "      <td>20160101</td>\n",
       "      <td>gold</td>\n",
       "      <td>48Z55</td>\n",
       "      <td>20180109</td>\n",
       "      <td>1530</td>\n",
       "      <td>1700</td>\n",
       "      <td>67318</td>\n",
       "      <td>...</td>\n",
       "      <td>871539279</td>\n",
       "      <td>423327</td>\n",
       "      <td>30</td>\n",
       "      <td>70</td>\n",
       "      <td>brown</td>\n",
       "      <td>brown</td>\n",
       "      <td>male</td>\n",
       "      <td>0H42W2</td>\n",
       "      <td>Chevrolet</td>\n",
       "      <td>Spark LS</td>\n",
       "    </tr>\n",
       "  </tbody>\n",
       "</table>\n",
       "<p>1 rows × 24 columns</p>\n",
       "</div>"
      ],
      "text/plain": [
       "      id  person_id           name  membership_start_date membership_status  \\\n",
       "0  48Z55      67318  Jeremy Bowers               20160101              gold   \n",
       "\n",
       "  membership_id  check_in_date  check_in_time  check_out_time     id  ...  \\\n",
       "0         48Z55       20180109           1530            1700  67318  ...   \n",
       "\n",
       "         ssn      id  age height  eye_color  hair_color  gender  plate_number  \\\n",
       "0  871539279  423327   30     70      brown       brown    male        0H42W2   \n",
       "\n",
       "    car_make car_model  \n",
       "0  Chevrolet  Spark LS  \n",
       "\n",
       "[1 rows x 24 columns]"
      ]
     },
     "execution_count": 45,
     "metadata": {},
     "output_type": "execute_result"
    }
   ],
   "source": [
    "res4 = pd.read_sql(DESCRIPCIONA, conn)\n",
    "res4"
   ]
  },
  {
   "cell_type": "markdown",
   "id": "a7195911",
   "metadata": {},
   "source": [
    "### SEGUN LO DE LOS TESTIGOS VERIFICAMOS QUE ESTE CORRECTO"
   ]
  },
  {
   "cell_type": "code",
   "execution_count": 28,
   "id": "b4aac734",
   "metadata": {},
   "outputs": [
    {
     "data": {
      "text/html": [
       "<div>\n",
       "<style scoped>\n",
       "    .dataframe tbody tr th:only-of-type {\n",
       "        vertical-align: middle;\n",
       "    }\n",
       "\n",
       "    .dataframe tbody tr th {\n",
       "        vertical-align: top;\n",
       "    }\n",
       "\n",
       "    .dataframe thead th {\n",
       "        text-align: right;\n",
       "    }\n",
       "</style>\n",
       "<table border=\"1\" class=\"dataframe\">\n",
       "  <thead>\n",
       "    <tr style=\"text-align: right;\">\n",
       "      <th></th>\n",
       "      <th>value</th>\n",
       "    </tr>\n",
       "  </thead>\n",
       "  <tbody>\n",
       "    <tr>\n",
       "      <th>0</th>\n",
       "      <td>Congrats, you found the brains behind the murd...</td>\n",
       "    </tr>\n",
       "  </tbody>\n",
       "</table>\n",
       "</div>"
      ],
      "text/plain": [
       "                                               value\n",
       "0  Congrats, you found the brains behind the murd..."
      ]
     },
     "execution_count": 28,
     "metadata": {},
     "output_type": "execute_result"
    }
   ],
   "source": [
    "solution1 = \"\"\"\n",
    "INSERT INTO solution VALUES (1, 'Jeremy Bowers');\n",
    "\"\"\"       \n",
    "solution1_1 = \"\"\"\n",
    "    SELECT value FROM solution;\n",
    "\"\"\" \n",
    "resS = pd.read_sql(solution1_1, conn)\n",
    "resS"
   ]
  },
  {
   "cell_type": "markdown",
   "id": "2c74d3e7",
   "metadata": {},
   "source": [
    "### PARA ENCONTRAR A LA MENTE DETRAS DEL ASESINATO, VEMOS LA ENTREVISTA DEL ASESINO"
   ]
  },
  {
   "cell_type": "code",
   "execution_count": 30,
   "id": "a69190a7",
   "metadata": {},
   "outputs": [
    {
     "data": {
      "text/html": [
       "<div>\n",
       "<style scoped>\n",
       "    .dataframe tbody tr th:only-of-type {\n",
       "        vertical-align: middle;\n",
       "    }\n",
       "\n",
       "    .dataframe tbody tr th {\n",
       "        vertical-align: top;\n",
       "    }\n",
       "\n",
       "    .dataframe thead th {\n",
       "        text-align: right;\n",
       "    }\n",
       "</style>\n",
       "<table border=\"1\" class=\"dataframe\">\n",
       "  <thead>\n",
       "    <tr style=\"text-align: right;\">\n",
       "      <th></th>\n",
       "      <th>person_id</th>\n",
       "      <th>transcript</th>\n",
       "    </tr>\n",
       "  </thead>\n",
       "  <tbody>\n",
       "    <tr>\n",
       "      <th>0</th>\n",
       "      <td>67318</td>\n",
       "      <td>I was hired by a woman with a lot of money. I ...</td>\n",
       "    </tr>\n",
       "  </tbody>\n",
       "</table>\n",
       "</div>"
      ],
      "text/plain": [
       "   person_id                                         transcript\n",
       "0      67318  I was hired by a woman with a lot of money. I ..."
      ]
     },
     "execution_count": 30,
     "metadata": {},
     "output_type": "execute_result"
    }
   ],
   "source": [
    "ENTREVISTAAA = \"\"\"\n",
    "SELECT *\n",
    "FROM interview\n",
    "WHERE person_id = 67318\n",
    "\"\"\"\n",
    "\n",
    "resI = pd.read_sql(ENTREVISTAAA, conn)\n",
    "resI"
   ]
  },
  {
   "cell_type": "markdown",
   "id": "774db510",
   "metadata": {},
   "source": [
    "### SEGUN LO DICHO POR EL ASESINO BUSCAMOS A LA SEÑORA CON DINERO Y QUE VA AL EVENTO"
   ]
  },
  {
   "cell_type": "code",
   "execution_count": 51,
   "id": "fa4bf615",
   "metadata": {},
   "outputs": [
    {
     "data": {
      "text/html": [
       "<div>\n",
       "<style scoped>\n",
       "    .dataframe tbody tr th:only-of-type {\n",
       "        vertical-align: middle;\n",
       "    }\n",
       "\n",
       "    .dataframe tbody tr th {\n",
       "        vertical-align: top;\n",
       "    }\n",
       "\n",
       "    .dataframe thead th {\n",
       "        text-align: right;\n",
       "    }\n",
       "</style>\n",
       "<table border=\"1\" class=\"dataframe\">\n",
       "  <thead>\n",
       "    <tr style=\"text-align: right;\">\n",
       "      <th></th>\n",
       "      <th>id</th>\n",
       "      <th>name</th>\n",
       "      <th>annual_income</th>\n",
       "      <th>event_name</th>\n",
       "      <th>date</th>\n",
       "      <th>id</th>\n",
       "      <th>age</th>\n",
       "      <th>height</th>\n",
       "      <th>eye_color</th>\n",
       "      <th>hair_color</th>\n",
       "      <th>gender</th>\n",
       "      <th>plate_number</th>\n",
       "      <th>car_make</th>\n",
       "      <th>car_model</th>\n",
       "    </tr>\n",
       "  </thead>\n",
       "  <tbody>\n",
       "    <tr>\n",
       "      <th>0</th>\n",
       "      <td>99716</td>\n",
       "      <td>Miranda Priestly</td>\n",
       "      <td>310000</td>\n",
       "      <td>SQL Symphony Concert</td>\n",
       "      <td>20171206</td>\n",
       "      <td>202298</td>\n",
       "      <td>68</td>\n",
       "      <td>66</td>\n",
       "      <td>green</td>\n",
       "      <td>red</td>\n",
       "      <td>female</td>\n",
       "      <td>500123</td>\n",
       "      <td>Tesla</td>\n",
       "      <td>Model S</td>\n",
       "    </tr>\n",
       "    <tr>\n",
       "      <th>1</th>\n",
       "      <td>99716</td>\n",
       "      <td>Miranda Priestly</td>\n",
       "      <td>310000</td>\n",
       "      <td>SQL Symphony Concert</td>\n",
       "      <td>20171212</td>\n",
       "      <td>202298</td>\n",
       "      <td>68</td>\n",
       "      <td>66</td>\n",
       "      <td>green</td>\n",
       "      <td>red</td>\n",
       "      <td>female</td>\n",
       "      <td>500123</td>\n",
       "      <td>Tesla</td>\n",
       "      <td>Model S</td>\n",
       "    </tr>\n",
       "    <tr>\n",
       "      <th>2</th>\n",
       "      <td>99716</td>\n",
       "      <td>Miranda Priestly</td>\n",
       "      <td>310000</td>\n",
       "      <td>SQL Symphony Concert</td>\n",
       "      <td>20171229</td>\n",
       "      <td>202298</td>\n",
       "      <td>68</td>\n",
       "      <td>66</td>\n",
       "      <td>green</td>\n",
       "      <td>red</td>\n",
       "      <td>female</td>\n",
       "      <td>500123</td>\n",
       "      <td>Tesla</td>\n",
       "      <td>Model S</td>\n",
       "    </tr>\n",
       "  </tbody>\n",
       "</table>\n",
       "</div>"
      ],
      "text/plain": [
       "      id              name  annual_income            event_name      date  \\\n",
       "0  99716  Miranda Priestly         310000  SQL Symphony Concert  20171206   \n",
       "1  99716  Miranda Priestly         310000  SQL Symphony Concert  20171212   \n",
       "2  99716  Miranda Priestly         310000  SQL Symphony Concert  20171229   \n",
       "\n",
       "       id  age  height eye_color hair_color  gender plate_number car_make  \\\n",
       "0  202298   68      66     green        red  female       500123    Tesla   \n",
       "1  202298   68      66     green        red  female       500123    Tesla   \n",
       "2  202298   68      66     green        red  female       500123    Tesla   \n",
       "\n",
       "  car_model  \n",
       "0   Model S  \n",
       "1   Model S  \n",
       "2   Model S  "
      ]
     },
     "execution_count": 51,
     "metadata": {},
     "output_type": "execute_result"
    }
   ],
   "source": [
    "solucionF = \"\"\"\n",
    "SELECT A.id, A.name, C.annual_income, D.event_name, D.date, B.*\n",
    "FROM person A\n",
    "INNER JOIN drivers_license B ON B.id = A.license_id\n",
    "INNER JOIN income C ON C.ssn = A.ssn\n",
    "INNER JOIN facebook_event_checkin D ON D.person_id = A.id\n",
    "WHERE B.gender = 'female'\n",
    "AND B.car_make = 'Tesla'\n",
    "AND B.car_model = 'Model S'\n",
    "AND B.height >= 65\n",
    "AND B.height <= 67\n",
    "AND B.hair_color = 'red'\n",
    "\"\"\"\n",
    "\n",
    "resF = pd.read_sql(solucionF, conn)\n",
    "resF"
   ]
  },
  {
   "cell_type": "markdown",
   "id": "6f114fba",
   "metadata": {},
   "source": [
    "### VERIFICAMOS SI ES LA MENTE DETRAS DEL ASESINATO"
   ]
  },
  {
   "cell_type": "code",
   "execution_count": 32,
   "id": "49b4d4d3",
   "metadata": {},
   "outputs": [
    {
     "data": {
      "text/html": [
       "<div>\n",
       "<style scoped>\n",
       "    .dataframe tbody tr th:only-of-type {\n",
       "        vertical-align: middle;\n",
       "    }\n",
       "\n",
       "    .dataframe tbody tr th {\n",
       "        vertical-align: top;\n",
       "    }\n",
       "\n",
       "    .dataframe thead th {\n",
       "        text-align: right;\n",
       "    }\n",
       "</style>\n",
       "<table border=\"1\" class=\"dataframe\">\n",
       "  <thead>\n",
       "    <tr style=\"text-align: right;\">\n",
       "      <th></th>\n",
       "      <th>value</th>\n",
       "    </tr>\n",
       "  </thead>\n",
       "  <tbody>\n",
       "    <tr>\n",
       "      <th>0</th>\n",
       "      <td>Congrats, you found the brains behind the murd...</td>\n",
       "    </tr>\n",
       "  </tbody>\n",
       "</table>\n",
       "</div>"
      ],
      "text/plain": [
       "                                               value\n",
       "0  Congrats, you found the brains behind the murd..."
      ]
     },
     "execution_count": 32,
     "metadata": {},
     "output_type": "execute_result"
    }
   ],
   "source": [
    "solution2 = \"\"\"\n",
    "INSERT INTO solution VALUES (1, 'Miranda Priestly');\n",
    "\"\"\"       \n",
    "solution2_1 = \"\"\"\n",
    "    SELECT value FROM solution;\n",
    "\"\"\" \n",
    "resS = pd.read_sql(solution2_1, conn)\n",
    "resS"
   ]
  },
  {
   "cell_type": "code",
   "execution_count": null,
   "id": "6bb1b4d9",
   "metadata": {},
   "outputs": [],
   "source": []
  }
 ],
 "metadata": {
  "kernelspec": {
   "display_name": "Python 3 (ipykernel)",
   "language": "python",
   "name": "python3"
  },
  "language_info": {
   "codemirror_mode": {
    "name": "ipython",
    "version": 3
   },
   "file_extension": ".py",
   "mimetype": "text/x-python",
   "name": "python",
   "nbconvert_exporter": "python",
   "pygments_lexer": "ipython3",
   "version": "3.8.17"
  }
 },
 "nbformat": 4,
 "nbformat_minor": 5
}
